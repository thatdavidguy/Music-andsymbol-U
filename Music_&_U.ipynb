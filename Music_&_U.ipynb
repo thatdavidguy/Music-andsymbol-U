{
  "nbformat": 4,
  "nbformat_minor": 0,
  "metadata": {
    "colab": {
      "name": "Music & U",
      "provenance": [],
      "collapsed_sections": []
    },
    "kernelspec": {
      "name": "python3",
      "display_name": "Python 3"
    },
    "language_info": {
      "name": "python"
    }
  },
  "cells": [
    {
      "cell_type": "markdown",
      "source": [
        "###jayden's part\n",
        "https://medium.com/analytics-vidhya/getting-lyrics-of-songs-via-python-lyricsgenius-23e5dd5992e3 use python API to go from name of song to lyrics of that song \n",
        "genius API: https://genius.com/api-clients"
      ],
      "metadata": {
        "id": "GBYwmB4tIybl"
      }
    },
    {
      "cell_type": "code",
      "execution_count": null,
      "metadata": {
        "id": "ZT1UjMfmIk2S",
        "colab": {
          "base_uri": "https://localhost:8080/"
        },
        "outputId": "f8cab1b9-968d-4487-a71a-01f6a42c7529"
      },
      "outputs": [
        {
          "output_type": "stream",
          "name": "stdout",
          "text": [
            "Collecting git+https://github.com/johnwmillr/LyricsGenius.git\n",
            "  Cloning https://github.com/johnwmillr/LyricsGenius.git to /tmp/pip-req-build-_sdd2dc2\n",
            "  Running command git clone -q https://github.com/johnwmillr/LyricsGenius.git /tmp/pip-req-build-_sdd2dc2\n",
            "Requirement already satisfied: beautifulsoup4>=4.6.0 in /usr/local/lib/python3.7/dist-packages (from lyricsgenius==3.0.1) (4.6.3)\n",
            "Requirement already satisfied: requests>=2.20.0 in /usr/local/lib/python3.7/dist-packages (from lyricsgenius==3.0.1) (2.23.0)\n",
            "Requirement already satisfied: chardet<4,>=3.0.2 in /usr/local/lib/python3.7/dist-packages (from requests>=2.20.0->lyricsgenius==3.0.1) (3.0.4)\n",
            "Requirement already satisfied: urllib3!=1.25.0,!=1.25.1,<1.26,>=1.21.1 in /usr/local/lib/python3.7/dist-packages (from requests>=2.20.0->lyricsgenius==3.0.1) (1.24.3)\n",
            "Requirement already satisfied: idna<3,>=2.5 in /usr/local/lib/python3.7/dist-packages (from requests>=2.20.0->lyricsgenius==3.0.1) (2.10)\n",
            "Requirement already satisfied: certifi>=2017.4.17 in /usr/local/lib/python3.7/dist-packages (from requests>=2.20.0->lyricsgenius==3.0.1) (2021.10.8)\n",
            "Building wheels for collected packages: lyricsgenius\n",
            "  Building wheel for lyricsgenius (setup.py) ... \u001b[?25l\u001b[?25hdone\n",
            "  Created wheel for lyricsgenius: filename=lyricsgenius-3.0.1-py3-none-any.whl size=44688 sha256=89152ab12018bbd66c191733e2d02478a04d13d89ed3a0af52a7ed2e7d2c1fa2\n",
            "  Stored in directory: /tmp/pip-ephem-wheel-cache-pvfz0j5x/wheels/12/d5/2b/6b771ebb067bceb8816ec5eef0dd0d36bf069b18f03ac8ca20\n",
            "Successfully built lyricsgenius\n",
            "Installing collected packages: lyricsgenius\n",
            "Successfully installed lyricsgenius-3.0.1\n"
          ]
        }
      ],
      "source": [
        "!pip install git+https://github.com/johnwmillr/LyricsGenius.git #get lyricsgenius library"
      ]
    },
    {
      "cell_type": "code",
      "source": [
        "import lyricsgenius\n",
        "token='bboHyF2ffgQS69whlSR79bz032rOf93XnFbUFGNPbf5QmOO-uaMjNa4ewz5CfibW'\n",
        "genius = lyricsgenius.Genius(token,timeout=20)"
      ],
      "metadata": {
        "id": "9m0dN9j8MfLU"
      },
      "execution_count": null,
      "outputs": []
    },
    {
      "cell_type": "code",
      "source": [
        "song = genius.search_song(\"Enormous Penis\",  \"Da Vinci's Notebook\")\n",
        "print(song.lyrics)"
      ],
      "metadata": {
        "colab": {
          "base_uri": "https://localhost:8080/"
        },
        "id": "39N0PE64Op5p",
        "outputId": "3da373c1-0ef9-45c9-8818-6f2711e741cc"
      },
      "execution_count": null,
      "outputs": [
        {
          "output_type": "stream",
          "name": "stdout",
          "text": [
            "Searching for \"Enormous Penis\" by Da Vinci's Notebook...\n",
            "Done.\n",
            "[Verse]\n",
            "Whenever life gets you down\n",
            "Keeps you wearing a frown\n",
            "And the gravy train has left you behind\n",
            "And when you're all out of hope\n",
            "Down at the end of your rope\n",
            "And nobody's there to throw you a line\n",
            "If you ever get so low that you don't know which way to go\n",
            "Come on and take a walk in my shoes\n",
            "Never worry 'bout a thing, got the world on a string\n",
            "'Cause I've got the cure for all of my blues (All of his blues)\n",
            "\n",
            "[Chorus]\n",
            "I take a look at my enormous penis\n",
            "And my troubles start a-meltin' away (Ba-doo-bop-bop)\n",
            "I take a look at my enormous penis\n",
            "And the happy times are coming to stay\n",
            "I gotta sing and I dance when I glance in my pants\n",
            "And the feeling's like a sunshiney day\n",
            "I take a look at my enormous pe-e-e-nis\n",
            "And everything is goin' my way (Ba-doo-bop-bop)\n",
            "[Bridge]\n",
            "Vuh-vuh zee- zazup vavoo-duh VEE, vajahwah zoba day, vojeewazfazzva fah choo-bee-doo-waaa-ah!\n",
            "Zobuzee fapvah buyddily-a-bap-ba PEE-E-e-nis!\n",
            "Zapp'n zup a-dit un-doy-pah-dooleyow\n",
            "Everybody!\n",
            "[Chorus]\n",
            "I take a look at my enormous penis\n",
            "And my troubles start a-meltin' away (ba-doo-bop-bop)\n",
            "I take a look at my enormous penis\n",
            "And the happy times are coming to stay\n",
            "Yeah, I got great big amounts in the place where it counts\n",
            "And the feeling's like a sunshiney day\n",
            "I take a look at my enormous pe-e-e-nis\n",
            "And everything is goin' my way (My trouser monster)\n",
            "Everything is goin' my way (My meat is murder)\n",
            "Everything is goin' my way (Size doesn't matter)\n",
            "Everything is goin' my way\n",
            "Yumm7EmbedShare URLCopyEmbedCopy\n"
          ]
        }
      ]
    },
    {
      "cell_type": "markdown",
      "source": [
        "###andrea's part\n",
        "do the sentimental analysis given just lyrics (use sample lyrics for now and use python)"
      ],
      "metadata": {
        "id": "QTq7fYmNJE6l"
      }
    },
    {
      "cell_type": "code",
      "source": [
        ""
      ],
      "metadata": {
        "id": "IRf02_JlJdtp"
      },
      "execution_count": null,
      "outputs": []
    },
    {
      "cell_type": "markdown",
      "source": [
        "###david's part\n",
        "Bpm and chord progression"
      ],
      "metadata": {
        "id": "-Zguu1CSJbgg"
      }
    },
    {
      "cell_type": "code",
      "source": [
        "\"\"\"cries\"\"\""
      ],
      "metadata": {
        "id": "cy7qDRoVJec3",
        "colab": {
          "base_uri": "https://localhost:8080/",
          "height": 35
        },
        "outputId": "5f6b4901-9f07-4296-d0da-5aa1e951073a"
      },
      "execution_count": null,
      "outputs": [
        {
          "output_type": "execute_result",
          "data": {
            "application/vnd.google.colaboratory.intrinsic+json": {
              "type": "string"
            },
            "text/plain": [
              "'cries'"
            ]
          },
          "metadata": {},
          "execution_count": 1
        }
      ]
    },
    {
      "cell_type": "code",
      "source": [
        "#SEARCH KEYWORK TAKES NAME OF SONG AND RETURNS YT LINK note wont accept spaces\n",
        "import urllib.request \n",
        "import re \n",
        "\n",
        "search_keyword=\"Maps_-_maroon_5\" \n",
        "def getlink(search_keyword):\n",
        "  html = urllib.request.urlopen(\"https://www.youtube.com/results?search_query=\" + search_keyword)\n",
        "  video_ids = re.findall(r\"watch\\?v=(\\S{11})\", html.read().decode()) \n",
        "  yt_link = \"https://www.youtube.com/watch?v=\" + video_ids[0]\n",
        "  return yt_link\n",
        "yt_link = getlink(search_keyword)\n"
      ],
      "metadata": {
        "id": "357T8D8ZY8yu"
      },
      "execution_count": null,
      "outputs": []
    },
    {
      "cell_type": "code",
      "source": [
        "yt_link"
      ],
      "metadata": {
        "colab": {
          "base_uri": "https://localhost:8080/",
          "height": 35
        },
        "id": "7aoNHDd9t9j_",
        "outputId": "d43ec79d-825f-48bb-9a14-0773acc481b6"
      },
      "execution_count": null,
      "outputs": [
        {
          "output_type": "execute_result",
          "data": {
            "application/vnd.google.colaboratory.intrinsic+json": {
              "type": "string"
            },
            "text/plain": [
              "'https://www.youtube.com/watch?v=Y7ix6RITXM0'"
            ]
          },
          "metadata": {},
          "execution_count": 40
        }
      ]
    },
    {
      "cell_type": "code",
      "source": [
        "!pip install pytube"
      ],
      "metadata": {
        "colab": {
          "base_uri": "https://localhost:8080/"
        },
        "id": "QMpeA2PPaHXm",
        "outputId": "5a59db8d-0f44-4f2e-c745-7eaaf55be63e"
      },
      "execution_count": null,
      "outputs": [
        {
          "output_type": "stream",
          "name": "stdout",
          "text": [
            "Collecting pytube\n",
            "  Downloading pytube-11.0.2-py3-none-any.whl (56 kB)\n",
            "\u001b[?25l\r\u001b[K     |█████▉                          | 10 kB 13.8 MB/s eta 0:00:01\r\u001b[K     |███████████▋                    | 20 kB 14.6 MB/s eta 0:00:01\r\u001b[K     |█████████████████▌              | 30 kB 10.3 MB/s eta 0:00:01\r\u001b[K     |███████████████████████▎        | 40 kB 8.8 MB/s eta 0:00:01\r\u001b[K     |█████████████████████████████▏  | 51 kB 5.2 MB/s eta 0:00:01\r\u001b[K     |████████████████████████████████| 56 kB 2.2 MB/s \n",
            "\u001b[?25hInstalling collected packages: pytube\n",
            "Successfully installed pytube-11.0.2\n"
          ]
        }
      ]
    },
    {
      "cell_type": "code",
      "source": [
        "from pytube import YouTube\n",
        "yt = YouTube(yt_link)\n",
        "t = yt.streams.filter()#only_audio=True\n",
        "t[0].download(filename=\"Song.mp4\")\n"
      ],
      "metadata": {
        "colab": {
          "base_uri": "https://localhost:8080/",
          "height": 35
        },
        "id": "NLIeuY5hZrUS",
        "outputId": "f0ab5275-89cc-448b-ab20-2b31be2c1184"
      },
      "execution_count": null,
      "outputs": [
        {
          "output_type": "execute_result",
          "data": {
            "application/vnd.google.colaboratory.intrinsic+json": {
              "type": "string"
            },
            "text/plain": [
              "'/content/Song.mp4'"
            ]
          },
          "metadata": {},
          "execution_count": 18
        }
      ]
    },
    {
      "cell_type": "code",
      "source": [
        "# Load the Drive helper and mount\n",
        "from google.colab import drive\n",
        "# This will prompt for authorization.\n",
        "drive.mount('/content/drive')\n",
        "!ls \"/content/\""
      ],
      "metadata": {
        "colab": {
          "base_uri": "https://localhost:8080/"
        },
        "id": "rLeISdxrcbCv",
        "outputId": "f3a45f50-4df1-44bd-dbc2-d933572d3280"
      },
      "execution_count": null,
      "outputs": [
        {
          "output_type": "stream",
          "name": "stdout",
          "text": [
            "Mounted at /content/drive\n",
            "drive  sample_data  Song.mp4\n"
          ]
        }
      ]
    },
    {
      "cell_type": "code",
      "source": [
        "import subprocess \n",
        "command = \"ffmpeg -i Song.mp4 -ab 160k -ac 2 -ar 44100 -vn audio.wav\" \n",
        "subprocess.call(command, shell=True)\n",
        "!ls \"/content/\""
      ],
      "metadata": {
        "id": "7VqC6OJDk4BS",
        "colab": {
          "base_uri": "https://localhost:8080/"
        },
        "outputId": "55542326-dc6a-4c29-a2c1-12ebf4d8c4c4"
      },
      "execution_count": null,
      "outputs": [
        {
          "output_type": "stream",
          "name": "stdout",
          "text": [
            "audio.wav  drive  sample_data  Song.mp4\n"
          ]
        }
      ]
    },
    {
      "cell_type": "code",
      "source": [
        "!ls \"/content/\"\n",
        "print(\"penis\")\n",
        "!ls \"/content/\""
      ],
      "metadata": {
        "colab": {
          "base_uri": "https://localhost:8080/"
        },
        "id": "Cc-baquvwJWT",
        "outputId": "a270b5db-6a5a-46fc-cb22-b39beff8b8bb"
      },
      "execution_count": null,
      "outputs": [
        {
          "output_type": "stream",
          "name": "stdout",
          "text": [
            "drive  sample_data\n",
            "penis\n",
            "drive  sample_data\n"
          ]
        }
      ]
    },
    {
      "cell_type": "code",
      "source": [
        "!pip install essentia"
      ],
      "metadata": {
        "colab": {
          "base_uri": "https://localhost:8080/"
        },
        "id": "x9P-43OGp0Fd",
        "outputId": "c82d385f-2a85-4dbc-e696-d2ce6d8081f5"
      },
      "execution_count": null,
      "outputs": [
        {
          "output_type": "stream",
          "name": "stdout",
          "text": [
            "Requirement already satisfied: essentia in /usr/local/lib/python3.7/dist-packages (2.1b6.dev609)\n",
            "Requirement already satisfied: six in /usr/local/lib/python3.7/dist-packages (from essentia) (1.15.0)\n",
            "Requirement already satisfied: numpy>=1.8.2 in /usr/local/lib/python3.7/dist-packages (from essentia) (1.19.5)\n",
            "Requirement already satisfied: pyyaml in /usr/local/lib/python3.7/dist-packages (from essentia) (3.13)\n"
          ]
        }
      ]
    },
    {
      "cell_type": "code",
      "source": [
        "# first, we need to import our essentia module. It is aptly named 'essentia'!\n",
        "import essentia\n",
        "\n",
        "# as there are 2 operating modes in essentia which have the same algorithms,\n",
        "# these latter are dispatched into 2 submodules:\n",
        "import essentia.standard\n",
        "import essentia.streaming\n",
        "\n",
        "# let's have a look at what is in there\n",
        "print(dir(essentia.standard))"
      ],
      "metadata": {
        "colab": {
          "base_uri": "https://localhost:8080/"
        },
        "id": "NkH7Ykq_pwpY",
        "outputId": "029d5eca-9d18-4947-8a00-36707fd51c72"
      },
      "execution_count": null,
      "outputs": [
        {
          "output_type": "stream",
          "name": "stdout",
          "text": [
            "['AfterMaxToBeforeMaxEnergyRatio', 'AllPass', 'AudioLoader', 'AudioOnsetsMarker', 'AudioWriter', 'AutoCorrelation', 'BFCC', 'BPF', 'BandPass', 'BandReject', 'BarkBands', 'BeatTrackerDegara', 'BeatTrackerMultiFeature', 'Beatogram', 'BeatsLoudness', 'BinaryOperator', 'BinaryOperatorStream', 'BpmHistogram', 'BpmHistogramDescriptors', 'BpmRubato', 'CartesianToPolar', 'CentralMoments', 'Centroid', 'ChordsDescriptors', 'ChordsDetection', 'ChordsDetectionBeats', 'ChromaCrossSimilarity', 'Chromagram', 'Chromaprinter', 'ClickDetector', 'Clipper', 'ConstantQ', 'CoverSongSimilarity', 'Crest', 'CrossCorrelation', 'CrossSimilarityMatrix', 'CubicSpline', 'DCRemoval', 'DCT', 'Danceability', 'Decrease', 'Derivative', 'DerivativeSFX', 'DiscontinuityDetector', 'Dissonance', 'DistributionShape', 'Duration', 'DynamicComplexity', 'ERBBands', 'EasyLoader', 'EffectiveDuration', 'Energy', 'EnergyBand', 'EnergyBandRatio', 'Entropy', 'Envelope', 'EqloudLoader', 'EqualLoudness', 'Extractor', 'FFT', 'FFTC', 'FadeDetection', 'FalseStereoDetector', 'Flatness', 'FlatnessDB', 'FlatnessSFX', 'Flux', 'FrameCutter', 'FrameGenerator', 'FrameToReal', 'FreesoundExtractor', 'FrequencyBands', 'GFCC', 'GaiaTransform', 'GapsDetector', 'GeometricMean', 'HFC', 'HPCP', 'HarmonicBpm', 'HarmonicMask', 'HarmonicModelAnal', 'HarmonicPeaks', 'HighPass', 'HighResolutionFeatures', 'Histogram', 'HprModelAnal', 'HpsModelAnal', 'HumDetector', 'IDCT', 'IFFT', 'IFFTC', 'IIR', 'Inharmonicity', 'InstantPower', 'Intensity', 'Key', 'KeyExtractor', 'LPC', 'Larm', 'Leq', 'LevelExtractor', 'LogAttackTime', 'LogSpectrum', 'LoopBpmConfidence', 'LoopBpmEstimator', 'Loudness', 'LoudnessEBUR128', 'LoudnessVickers', 'LowLevelSpectralEqloudExtractor', 'LowLevelSpectralExtractor', 'LowPass', 'MFCC', 'Magnitude', 'MaxFilter', 'MaxMagFreq', 'MaxToTotal', 'Mean', 'Median', 'MedianFilter', 'MelBands', 'MetadataReader', 'Meter', 'MinMax', 'MinToTotal', 'MonoLoader', 'MonoMixer', 'MonoWriter', 'MovingAverage', 'MultiPitchKlapuri', 'MultiPitchMelodia', 'Multiplexer', 'MusicExtractor', 'MusicExtractorSVM', 'NNLSChroma', 'NSGConstantQ', 'NSGIConstantQ', 'NoiseAdder', 'NoiseBurstDetector', 'NoveltyCurve', 'NoveltyCurveFixedBpmEstimator', 'OddToEvenHarmonicEnergyRatio', 'OnsetDetection', 'OnsetDetectionGlobal', 'OnsetRate', 'Onsets', 'OverlapAdd', 'PCA', 'Panning', 'PeakDetection', 'PercivalBpmEstimator', 'PercivalEnhanceHarmonics', 'PercivalEvaluatePulseTrains', 'PitchContourSegmentation', 'PitchContours', 'PitchContoursMelody', 'PitchContoursMonoMelody', 'PitchContoursMultiMelody', 'PitchFilter', 'PitchMelodia', 'PitchSalience', 'PitchSalienceFunction', 'PitchSalienceFunctionPeaks', 'PitchYin', 'PitchYinFFT', 'PitchYinProbabilistic', 'PitchYinProbabilities', 'PitchYinProbabilitiesHMM', 'PolarToCartesian', 'PoolAggregator', 'PowerMean', 'PowerSpectrum', 'PredominantPitchMelodia', 'RMS', 'RawMoments', 'ReplayGain', 'Resample', 'ResampleFFT', 'RhythmDescriptors', 'RhythmExtractor', 'RhythmExtractor2013', 'RhythmTransform', 'RollOff', 'SBic', 'SNR', 'SaturationDetector', 'Scale', 'SilenceRate', 'SineModelAnal', 'SineModelSynth', 'SineSubtraction', 'SingleBeatLoudness', 'SingleGaussian', 'Slicer', 'SpectralCentroidTime', 'SpectralComplexity', 'SpectralContrast', 'SpectralPeaks', 'SpectralWhitening', 'Spectrum', 'SpectrumCQ', 'SpectrumToCent', 'Spline', 'SprModelAnal', 'SprModelSynth', 'SpsModelAnal', 'SpsModelSynth', 'StartStopCut', 'StartStopSilence', 'StereoDemuxer', 'StereoMuxer', 'StereoTrimmer', 'StochasticModelAnal', 'StochasticModelSynth', 'StrongDecay', 'StrongPeak', 'SuperFluxExtractor', 'SuperFluxNovelty', 'SuperFluxPeaks', 'TCToTotal', 'TempoScaleBands', 'TempoTap', 'TempoTapDegara', 'TempoTapMaxAgreement', 'TempoTapTicks', 'TensorNormalize', 'TensorTranspose', 'TensorflowInputMusiCNN', 'TensorflowInputTempoCNN', 'TensorflowInputVGGish', 'TonalExtractor', 'TonicIndianArtMusic', 'TriangularBands', 'TriangularBarkBands', 'Trimmer', 'Tristimulus', 'TruePeakDetector', 'TuningFrequency', 'TuningFrequencyExtractor', 'UnaryOperator', 'UnaryOperatorStream', 'Variance', 'Vibrato', 'Viterbi', 'WarpedAutoCorrelation', 'Welch', 'Windowing', 'YamlInput', 'YamlOutput', 'ZeroCrossingRate', '__builtins__', '__cached__', '__doc__', '__file__', '__loader__', '__name__', '__package__', '__spec__', '_c', '_create_essentia_class', '_create_python_algorithms', '_essentia', '_reloadAlgorithms', '_sys', 'algorithmInfo', 'algorithmNames', 'copy', 'essentia', 'iteritems']\n"
          ]
        }
      ]
    },
    {
      "cell_type": "code",
      "source": [
        "loader = essentia.standard.MonoLoader(filename='/content/audio.wav')\n",
        "\n",
        "# and then we actually perform the loading:\n",
        "audio = loader()"
      ],
      "metadata": {
        "id": "cjEYwqMnG_zf"
      },
      "execution_count": null,
      "outputs": []
    },
    {
      "cell_type": "code",
      "source": [
        "# Compute beat positions and BPM\n",
        "rhythm_extractor = essentia.standard.RhythmExtractor2013(method=\"multifeature\")\n",
        "bpm, beats, beats_confidence, _, beats_intervals = rhythm_extractor(audio)\n",
        "\n",
        "print(\"BPM:\", bpm)\n",
        "print(\"Beat positions (sec.):\", beats)\n",
        "print(\"Beat estimation confidence:\", beats_confidence)"
      ],
      "metadata": {
        "colab": {
          "base_uri": "https://localhost:8080/"
        },
        "id": "CfkVYsCtrJco",
        "outputId": "62450645-866a-4d4a-b242-03904b6e4e03"
      },
      "execution_count": null,
      "outputs": [
        {
          "output_type": "stream",
          "name": "stdout",
          "text": [
            "BPM: 120.00359344482422\n",
            "Beat positions (sec.): [  0.5456689   1.0797279   1.6137868   2.1594558   2.6935146   3.2159636\n",
            "   3.7384126   4.2724714   4.8065305   5.3173695   5.8282084   6.3390474\n",
            "   6.8382764   7.3375053   7.836735    8.335963    8.846803    9.346031\n",
            "   9.845261   10.34449    10.843719   11.342948   11.842176   12.341406\n",
            "  12.840634   13.351474   13.850702   14.349932   14.849161   15.34839\n",
            "  15.847619   16.346848   16.834467   17.345306   17.844534   18.343763\n",
            "  18.842993   19.342222   19.841452   20.34068    20.839909   21.339138\n",
            "  21.838367   22.337597   22.836824   23.336054   23.835283   24.334513\n",
            "  24.83374    25.33297    25.84381    26.343039   26.842268   27.341496\n",
            "  27.840725   28.339954   28.839184   29.338411   29.83764    30.33687\n",
            "  30.8361     31.33533    31.834557   32.345398   32.844624   33.343853\n",
            "  33.843082   34.34231    34.84154    35.34077    35.84       36.33923\n",
            "  36.83846    37.337685   37.836914   38.336143   38.835373   39.334602\n",
            "  39.83383    40.33306    40.8439     41.33152    41.842358   42.329975\n",
            "  42.840816   43.340046   43.839275   44.326893   44.83773    45.33696\n",
            "  45.83619    46.33542    46.83465    47.333878   47.833107   48.343945\n",
            "  48.831562   49.342403   49.83002    50.340862   50.82848    51.339317\n",
            "  51.838547   52.337776   52.837006   53.336235   53.835464   54.334694\n",
            "  54.833923   55.333153   55.83238    56.331608   56.830837   57.330067\n",
            "  57.840904   58.340134   58.839363   59.326984   59.837822   60.32544\n",
            "  60.82467    61.3239     61.83474    62.345577   62.833195   63.332424\n",
            "  63.831654   64.34249    64.83011    65.32934    65.82857    66.33941\n",
            "  66.83864    67.33787    67.8371     68.33633    68.835556   69.334785\n",
            "  69.834015   70.333244   70.84408    71.34331    71.84254    72.34177\n",
            "  72.840996   73.35184    73.85107    74.350296   74.849525   75.348755\n",
            "  75.83637    76.347206   76.846436   77.345665   77.844894   78.344124\n",
            "  78.84335    79.34258    79.84181    80.34104    80.84027    81.3395\n",
            "  81.83873    82.33796    82.83719    83.33642    83.83565    84.33488\n",
            "  84.83411    85.33333    85.83256    86.33179    86.83102    87.330246\n",
            "  87.84109    88.34032    88.83955    89.338776   89.838005   90.337234\n",
            "  90.836464   91.33569    91.834915   92.334145   92.833374   93.344215\n",
            "  93.83183    94.33106    94.83029    95.34113    95.84036    96.33959\n",
            "  96.83882    97.33805    97.83728    98.33651    98.83573    99.33496\n",
            "  99.83419   100.33342   100.83265   101.33188   101.84272   102.33034\n",
            " 102.82957   103.3288    103.83964   104.327255  104.8381    105.337326\n",
            " 105.83655   106.33578   106.83501   107.32263   107.833466  108.34431\n",
            " 108.831924  109.342766  109.83038   110.341225  110.82884   111.32807\n",
            " 111.8273    112.338135  112.82576   113.33659   113.83582   114.33505\n",
            " 114.83428   115.33351   115.83274   116.33197   116.84281   117.33043\n",
            " 117.84127   118.3405    118.83973   119.33895   119.83818   120.325806\n",
            " 120.825035  121.324265  121.8351    122.34594   122.83356   123.33279\n",
            " 123.832016  124.34286   124.830475  125.329704  125.82893   126.32816\n",
            " 126.82739   127.33823   127.837456  128.33669   128.83592   129.33514\n",
            " 129.83438   130.3336    130.82123   131.32045   131.81969   132.33052\n",
            " 132.82974   133.32898   133.8282    134.32744   134.83827   135.33751\n",
            " 135.83673   136.33597   136.83519   137.33441   137.83365   138.34448\n",
            " 138.84372   139.34294   139.84218   140.3414    140.84064   141.33986\n",
            " 141.8391    142.33832   142.84915   143.34839   143.84761   144.34685\n",
            " 144.84607   145.35692   145.85614   146.35538   146.84299   147.34222\n",
            " 147.84145   148.34068   148.8399    149.33914   149.84998   150.3492\n",
            " 150.84843   151.33604   151.83528   152.3345    152.83374   153.34457\n",
            " 153.84381   154.34303   154.84227   155.34149   155.84073   156.33995\n",
            " 156.83919   157.33841   157.83763   158.33687   158.83609   159.33533\n",
            " 159.84616   160.33379   160.84462   161.33224   161.84308   162.3307\n",
            " 162.84154   163.32916   163.84      164.35083   164.83846   165.33768\n",
            " 165.83691   166.32454   166.83537   167.3462    167.83383   168.33305\n",
            " 168.83229   169.34312   169.83075   170.34158   170.84082   171.34004\n",
            " 171.83926   172.3385    172.82613   173.33696   173.83618   174.33542\n",
            " 174.83464   175.33388   175.84471   176.33234   176.84317   177.3308\n",
            " 177.83002   178.34085   178.84009   179.33931   179.83855   180.32617\n",
            " 180.837     181.32462   181.82385   182.33469   182.83392   183.33315\n",
            " 183.83238   184.3316    184.83084   185.33006   185.8293    186.35175\n",
            " 186.87419   187.40825   187.9423    188.48798  ]\n",
            "Beat estimation confidence: 2.650970697402954\n"
          ]
        }
      ]
    },
    {
      "cell_type": "code",
      "source": [
        "import os\n",
        "os.remove(f\"./audio.wav\")\n",
        "!ls \"/content/\""
      ],
      "metadata": {
        "colab": {
          "base_uri": "https://localhost:8080/"
        },
        "id": "wnKRIjb_d3BW",
        "outputId": "9d232875-776e-4a8d-81e0-2231275b56a7"
      },
      "execution_count": null,
      "outputs": [
        {
          "output_type": "stream",
          "name": "stdout",
          "text": [
            "drive  sample_data\n"
          ]
        }
      ]
    },
    {
      "cell_type": "code",
      "source": [
        "#dependencies\n",
        "!pip install pytube\n",
        "!pip install essentia"
      ],
      "metadata": {
        "colab": {
          "base_uri": "https://localhost:8080/"
        },
        "id": "ioT0uegOuqLP",
        "outputId": "ac43351f-1664-4735-8f58-06547bf6296d"
      },
      "execution_count": null,
      "outputs": [
        {
          "output_type": "stream",
          "name": "stdout",
          "text": [
            "Requirement already satisfied: pytube in /usr/local/lib/python3.7/dist-packages (11.0.2)\n",
            "Requirement already satisfied: essentia in /usr/local/lib/python3.7/dist-packages (2.1b6.dev609)\n",
            "Requirement already satisfied: six in /usr/local/lib/python3.7/dist-packages (from essentia) (1.15.0)\n",
            "Requirement already satisfied: numpy>=1.8.2 in /usr/local/lib/python3.7/dist-packages (from essentia) (1.19.5)\n",
            "Requirement already satisfied: pyyaml in /usr/local/lib/python3.7/dist-packages (from essentia) (3.13)\n"
          ]
        }
      ]
    },
    {
      "cell_type": "code",
      "source": [
        "Names_of_songs = [\"Maps_maroon_five\",\"sorry_justin_beiber\"]\n",
        "\n",
        "print(f'Find BPM of :\\n{Names_of_songs}')\n",
        "print(\"--------------------------\")\n",
        "\n",
        "def getlink(search_keyword):\n",
        "        html = urllib.request.urlopen(\"https://www.youtube.com/results?search_query=\" + search_keyword)\n",
        "        video_ids = re.findall(r\"watch\\?v=(\\S{11})\", html.read().decode()) \n",
        "        yt_link = \"https://www.youtube.com/watch?v=\" + video_ids[0]\n",
        "        return yt_link\n",
        "    \n",
        "def getYOUTUBElink(name):\n",
        "        #SEARCH KEYWORK TAKES NAME OF SONG AND RETURNS YT LINK note wont accept spaces\n",
        "    import urllib.request \n",
        "    import re \n",
        "    yt_link = getlink(name)\n",
        "    return(yt_link)\n",
        "\n",
        "def download(yt_link):\n",
        "    from pytube import YouTube\n",
        "    yt = YouTube(yt_link)\n",
        "    t = yt.streams.filter()#only_audio=True\n",
        "    t[0].download(filename=\"Song.mp4\")\n",
        "\n",
        "def CheckinGoogDrive():\n",
        "    # Load the Drive helper and mount\n",
        "    from google.colab import drive\n",
        "\n",
        "    # This will prompt for authorization.\n",
        "    drive.mount('/content/drive')\n",
        "    #!ls \"/content/\"\n",
        "\n",
        "def GetWavofMp4():\n",
        "    import os\n",
        "    os.remove(f\"./audio.wav\")\n",
        "\n",
        "    import subprocess \n",
        "    command = \"ffmpeg -i Song.mp4 -ab 160k -ac 2 -ar 44100 -vn audio.wav\" \n",
        "    subprocess.call(command, shell=True)\n",
        "    #!ls \"/content/\"\n",
        "\n",
        "def bpm():\n",
        "    import essentia\n",
        "    # as there are 2 operating modes in essentia which have the same algorithms,\n",
        "    # these latter are dispatched into 2 submodules:\n",
        "    import essentia.standard\n",
        "    import essentia.streaming\n",
        "    loader = essentia.standard.MonoLoader(filename='/content/audio.wav')\n",
        "    # and then we actually perform the loading:\n",
        "    audio = loader()\n",
        "    # Compute beat positions and BPM\n",
        "    rhythm_extractor = essentia.standard.RhythmExtractor2013(method=\"multifeature\")\n",
        "    bpm, beats, beats_confidence, _, beats_intervals = rhythm_extractor(audio)\n",
        "    return(bpm)\n",
        "    #print(\"Beat positions (sec.):\", beats)\n",
        "    #print(\"Beat estimation confidence:\", beats_confidence)\n",
        "\n",
        "\n",
        "\n",
        "for i in Names_of_songs:\n",
        "    link = getYOUTUBElink(i)\n",
        "    print(f'Youtube link of {i} is {link}')\n",
        "    download(link) #Name of file is song.mp4\n",
        "    #print(\"Download Complete\")\n",
        "    CheckinGoogDrive() #check if its in the goog drive and connect goog drive\n",
        "    GetWavofMp4()  #get .wav format\n",
        "    #if i == \"sorry_justin_beiber\":\n",
        "     #   from google.colab import files\n",
        "      #  files.download('audio.wav')\n",
        "    bpmofsong = bpm()\n",
        "    print(f'Bpm of {i} is {bpmofsong}')\n",
        "    print(\"--------------------------\")\n",
        "\n",
        "\n",
        "\n",
        "os.remove(f\"./audio.wav\")\n",
        "os.remove(f\"./Song.mp4\")\n",
        "#!ls \"/content/\""
      ],
      "metadata": {
        "colab": {
          "base_uri": "https://localhost:8080/"
        },
        "id": "ShNi6Tp3uq6Q",
        "outputId": "9c5f470d-c607-4949-8bed-56e3a849492c"
      },
      "execution_count": null,
      "outputs": [
        {
          "output_type": "stream",
          "name": "stdout",
          "text": [
            "Find BPM of :\n",
            "['Maps_maroon_five', 'sorry_justin_beiber']\n",
            "--------------------------\n",
            "Youtube link of Maps_maroon_five is https://www.youtube.com/watch?v=Y7ix6RITXM0\n",
            "Drive already mounted at /content/drive; to attempt to forcibly remount, call drive.mount(\"/content/drive\", force_remount=True).\n",
            "Bpm of Maps_maroon_five is 120.00359344482422\n",
            "--------------------------\n",
            "Youtube link of sorry_justin_beiber is https://www.youtube.com/watch?v=fRh_vgS2dFE\n",
            "Drive already mounted at /content/drive; to attempt to forcibly remount, call drive.mount(\"/content/drive\", force_remount=True).\n",
            "Bpm of sorry_justin_beiber is 99.9357681274414\n",
            "--------------------------\n"
          ]
        }
      ]
    },
    {
      "cell_type": "code",
      "source": [
        ""
      ],
      "metadata": {
        "colab": {
          "base_uri": "https://localhost:8080/"
        },
        "id": "HUlFEuxN1Yzv",
        "outputId": "77a477da-bba0-45a8-96a1-53b9c3475dda"
      },
      "execution_count": null,
      "outputs": [
        {
          "output_type": "stream",
          "name": "stdout",
          "text": [
            "audio.wav  drive  sample_data  Song.mp4\n"
          ]
        }
      ]
    }
  ]
}